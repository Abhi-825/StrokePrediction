{
 "cells": [
  {
   "cell_type": "code",
   "execution_count": 1,
   "metadata": {},
   "outputs": [],
   "source": [
    "# Import Libraries\n",
    "import tensorflow as tf\n",
    "import os\n",
    "import glob\n",
    "import numpy as np\n",
    "import cv2\n",
    "from sklearn.model_selection import train_test_split\n",
    "from tensorflow.keras import models, layers \n",
    "from sklearn.preprocessing import LabelEncoder\n",
    "from tensorflow.keras.utils import to_categorical\n",
    "from sklearn.metrics import accuracy_score\n",
    "\n"
   ]
  },
  {
   "cell_type": "code",
   "execution_count": 2,
   "metadata": {},
   "outputs": [
    {
     "name": "stdout",
     "output_type": "stream",
     "text": [
      "['stroke_data' 'stroke_data' 'stroke_data' 'stroke_data' 'stroke_data'\n",
      " 'stroke_data' 'stroke_data' 'stroke_data' 'stroke_data' 'stroke_data'\n",
      " 'stroke_data' 'stroke_data' 'stroke_data' 'stroke_data' 'stroke_data'\n",
      " 'stroke_data' 'stroke_data' 'stroke_data' 'stroke_data' 'stroke_data'\n",
      " 'stroke_data' 'stroke_data' 'stroke_data' 'stroke_data' 'stroke_data'\n",
      " 'stroke_data' 'stroke_data' 'stroke_data' 'stroke_data' 'stroke_data'\n",
      " 'stroke_data' 'stroke_data' 'stroke_data' 'stroke_data' 'stroke_data'\n",
      " 'stroke_data' 'stroke_data' 'stroke_data' 'stroke_data' 'stroke_data'\n",
      " 'stroke_data' 'stroke_data' 'stroke_data' 'stroke_data' 'stroke_data'\n",
      " 'stroke_data' 'stroke_data' 'stroke_data' 'stroke_data' 'stroke_data']\n"
     ]
    }
   ],
   "source": [
    "folder_path = \"C:\\\\Temp\\\\main\\\\\"\n",
    "\n",
    "\n",
    "files_list = glob.glob(os.path.join(folder_path,'**','*.jpg'), recursive = True)  # Creating a list for the files in the data set\n",
    "\n",
    "\n",
    "\n",
    "\n",
    "# Labels and Images List\n",
    "images = []\n",
    "labels12 = []\n",
    "labels = []\n",
    "\n",
    "\n",
    "# Reading the Files, Converting them to Numpy Arrays, appending the Numpy Array and Label into the lists.\n",
    "# Index's Match\n",
    "\n",
    "\n",
    "for file in files_list:\n",
    " image = cv2.imread(file)\n",
    " image_array = np.array(image)\n",
    " dirname = os.path.dirname(file)\n",
    " labels12.append(os.path.basename(dirname))\n",
    " images.append(image_array)\n",
    " labels = np.array(labels12, dtype=str)\n",
    " \n",
    "\n",
    "print (labels[2650:2700])\n",
    "\n"
   ]
  },
  {
   "cell_type": "code",
   "execution_count": 3,
   "metadata": {},
   "outputs": [
    {
     "name": "stdout",
     "output_type": "stream",
     "text": [
      "(3770, 64, 64, 3)\n"
     ]
    }
   ],
   "source": [
    "\n",
    "#Assume images is a list of NumPy arrays with varying sizes\n",
    "target_size = (64, 64)  # Target size (height, width)\n",
    "\n",
    "# Resize all images to the target size\n",
    "resized_images = []\n",
    "for image in images:\n",
    "    resized_image = cv2.resize(image, target_size)\n",
    "    resized_images.append(resized_image)\n",
    "    \n",
    "resized_images = np.array(resized_images, dtype = str)    \n",
    "\n",
    "print(resized_images.shape)"
   ]
  },
  {
   "cell_type": "code",
   "execution_count": 4,
   "metadata": {},
   "outputs": [
    {
     "name": "stdout",
     "output_type": "stream",
     "text": [
      "['stroke_data' 'stroke_data' 'noStroke_data' ... 'noStroke_data'\n",
      " 'stroke_data' 'stroke_data']\n"
     ]
    }
   ],
   "source": [
    "\n",
    "X_train, X_test, y_train, y_test = train_test_split(resized_images, labels, test_size=0.2, random_state=42) \n",
    "\n",
    "\n",
    "\n",
    "\n",
    "\n",
    "\n",
    "print(y_train)\n"
   ]
  },
  {
   "cell_type": "code",
   "execution_count": 5,
   "metadata": {},
   "outputs": [],
   "source": [
    "# Initialize LabelEncoder\n",
    "label_encoder = LabelEncoder()\n",
    "\n",
    "# Fit and transform labels to integer values\n",
    "y_train = label_encoder.fit_transform(y_train)\n",
    "y_test = label_encoder.transform(y_test)\n",
    "\n",
    "\n",
    "\n",
    "num_classes = len(np.unique(y_train))  # Number of unique labels\n",
    "\n",
    "# Convert labels to one-hot encoding\n",
    "y_train_one_hot = to_categorical(y_train, num_classes=num_classes)\n",
    "y_test_one_hot = to_categorical(y_test, num_classes=num_classes)\n",
    "\n",
    "X_train = X_train.astype('float32') / 255.0  # Normalize to [0, 1] if using float32\n",
    "X_test = X_test.astype('float32') / 255.0\n",
    "\n",
    "num_classes = 2  # e.g., \"stroke image\" and \"not stroke image\"\n",
    "\n"
   ]
  },
  {
   "cell_type": "code",
   "execution_count": 6,
   "metadata": {},
   "outputs": [
    {
     "name": "stderr",
     "output_type": "stream",
     "text": [
      "c:\\Users\\mkura\\AppData\\Local\\Programs\\Python\\Python312\\Lib\\site-packages\\keras\\src\\layers\\convolutional\\base_conv.py:107: UserWarning: Do not pass an `input_shape`/`input_dim` argument to a layer. When using Sequential models, prefer using an `Input(shape)` object as the first layer in the model instead.\n",
      "  super().__init__(activity_regularizer=activity_regularizer, **kwargs)\n"
     ]
    }
   ],
   "source": [
    "\n",
    "num_classes = 2  # Update this based on your dataset\n",
    "\n",
    "# Convert labels to one-hot encoding\n",
    "y_train_one_hot = to_categorical(y_train, num_classes=num_classes)\n",
    "\n",
    "model = models.Sequential([\n",
    "    layers.Conv2D(32, (3, 3), activation='relu', input_shape=(64, 64, 3)),\n",
    "    layers.MaxPooling2D((2, 2)),\n",
    "    layers.Conv2D(64, (3, 3), activation='relu'),\n",
    "    layers.MaxPooling2D((2, 2)),\n",
    "    layers.Conv2D(64, (3, 3), activation='relu'),\n",
    "    layers.Flatten(),\n",
    "    layers.Dense(64, activation='relu'),\n",
    "    layers.Dense(2, activation='softmax')\n",
    "])\n",
    "\n",
    "\n",
    "# Compile the model\n",
    "model.compile(optimizer='adam',\n",
    "              loss='categorical_crossentropy',\n",
    "              metrics=['accuracy'])\n",
    "\n",
    "              "
   ]
  },
  {
   "cell_type": "code",
   "execution_count": 7,
   "metadata": {},
   "outputs": [
    {
     "name": "stdout",
     "output_type": "stream",
     "text": [
      "Epoch 1/7\n",
      "\u001b[1m48/48\u001b[0m \u001b[32m━━━━━━━━━━━━━━━━━━━━\u001b[0m\u001b[37m\u001b[0m \u001b[1m4s\u001b[0m 62ms/step - accuracy: 0.6860 - loss: 0.6072\n",
      "Epoch 2/7\n",
      "\u001b[1m48/48\u001b[0m \u001b[32m━━━━━━━━━━━━━━━━━━━━\u001b[0m\u001b[37m\u001b[0m \u001b[1m3s\u001b[0m 61ms/step - accuracy: 0.8452 - loss: 0.3780\n",
      "Epoch 3/7\n",
      "\u001b[1m48/48\u001b[0m \u001b[32m━━━━━━━━━━━━━━━━━━━━\u001b[0m\u001b[37m\u001b[0m \u001b[1m3s\u001b[0m 61ms/step - accuracy: 0.8389 - loss: 0.3797\n",
      "Epoch 4/7\n",
      "\u001b[1m48/48\u001b[0m \u001b[32m━━━━━━━━━━━━━━━━━━━━\u001b[0m\u001b[37m\u001b[0m \u001b[1m3s\u001b[0m 61ms/step - accuracy: 0.8999 - loss: 0.2568\n",
      "Epoch 5/7\n",
      "\u001b[1m48/48\u001b[0m \u001b[32m━━━━━━━━━━━━━━━━━━━━\u001b[0m\u001b[37m\u001b[0m \u001b[1m3s\u001b[0m 60ms/step - accuracy: 0.8881 - loss: 0.2760\n",
      "Epoch 6/7\n",
      "\u001b[1m48/48\u001b[0m \u001b[32m━━━━━━━━━━━━━━━━━━━━\u001b[0m\u001b[37m\u001b[0m \u001b[1m3s\u001b[0m 61ms/step - accuracy: 0.9222 - loss: 0.1881\n",
      "Epoch 7/7\n",
      "\u001b[1m48/48\u001b[0m \u001b[32m━━━━━━━━━━━━━━━━━━━━\u001b[0m\u001b[37m\u001b[0m \u001b[1m3s\u001b[0m 63ms/step - accuracy: 0.9420 - loss: 0.1605\n"
     ]
    },
    {
     "data": {
      "text/plain": [
       "<keras.src.callbacks.history.History at 0x23713e26990>"
      ]
     },
     "execution_count": 7,
     "metadata": {},
     "output_type": "execute_result"
    }
   ],
   "source": [
    "model.fit(X_train, y_train_one_hot, epochs=7, batch_size=64)"
   ]
  },
  {
   "cell_type": "code",
   "execution_count": 8,
   "metadata": {},
   "outputs": [
    {
     "name": "stdout",
     "output_type": "stream",
     "text": [
      "\u001b[1m24/24\u001b[0m \u001b[32m━━━━━━━━━━━━━━━━━━━━\u001b[0m\u001b[37m\u001b[0m \u001b[1m0s\u001b[0m 14ms/step\n",
      "Test accuracy: 0.9376657824933687\n"
     ]
    }
   ],
   "source": [
    "# Get predicted probabilities\n",
    "y_pred_prob = model.predict(X_test)\n",
    "\n",
    "# Convert probabilities to class labels\n",
    "y_pred = np.argmax(y_pred_prob, axis=1)\n",
    "\n",
    "# Convert one-hot encoded y_test to class labels if it's still one-hot encoded\n",
    "y_test_labels = np.argmax(y_test_one_hot, axis=1)\n",
    "\n",
    "# Calculate and print accuracy\n",
    "accuracy = accuracy_score(y_test_labels, y_pred)\n",
    "print('Test accuracy:', accuracy)\n",
    "\n",
    "\n"
   ]
  },
  {
   "cell_type": "code",
   "execution_count": 9,
   "metadata": {},
   "outputs": [],
   "source": [
    "model.save('C:\\\\Temp\\\\my_cnn_model.keras')  # Saving as .keras\n"
   ]
  },
  {
   "cell_type": "code",
   "execution_count": null,
   "metadata": {},
   "outputs": [],
   "source": []
  }
 ],
 "metadata": {
  "kernelspec": {
   "display_name": "Python 3",
   "language": "python",
   "name": "python3"
  },
  "language_info": {
   "codemirror_mode": {
    "name": "ipython",
    "version": 3
   },
   "file_extension": ".py",
   "mimetype": "text/x-python",
   "name": "python",
   "nbconvert_exporter": "python",
   "pygments_lexer": "ipython3",
   "version": "3.12.2"
  }
 },
 "nbformat": 4,
 "nbformat_minor": 2
}
